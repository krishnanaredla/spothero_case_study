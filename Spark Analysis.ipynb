{
 "cells": [
  {
   "cell_type": "code",
   "execution_count": 3,
   "id": "5ff5fddf",
   "metadata": {},
   "outputs": [],
   "source": [
    "from pyspark.sql import SparkSession\n",
    "from pyspark.sql.functions import *\n",
    "from pyspark.sql.types import *\n",
    "from pyspark.sql import Window\n",
    "import pandas as pd"
   ]
  },
  {
   "cell_type": "code",
   "execution_count": 4,
   "id": "39a331c2",
   "metadata": {},
   "outputs": [],
   "source": [
    "spark = SparkSession.builder.getOrCreate()"
   ]
  },
  {
   "cell_type": "code",
   "execution_count": 5,
   "id": "a51516ff",
   "metadata": {},
   "outputs": [],
   "source": [
    "cohort = spark.read.parquet(r\"data/cohort_data\")"
   ]
  },
  {
   "cell_type": "code",
   "execution_count": 6,
   "id": "d83e09f1",
   "metadata": {},
   "outputs": [
    {
     "data": {
      "text/plain": [
       "26436"
      ]
     },
     "execution_count": 6,
     "metadata": {},
     "output_type": "execute_result"
    }
   ],
   "source": [
    "cohort.count()"
   ]
  },
  {
   "cell_type": "code",
   "execution_count": 7,
   "id": "b274cf0c",
   "metadata": {},
   "outputs": [
    {
     "name": "stdout",
     "output_type": "stream",
     "text": [
      "+--------------------+------------------+--------------------+-----------+-------------+\n",
      "|             user_id|         user_name|           cohort_id|cohort_name| marketing_id|\n",
      "+--------------------+------------------+--------------------+-----------+-------------+\n",
      "|f8dc8576-6af9-44e...|        Rose White|677d3a5f-e782-455...|    ANDROID|android promo|\n",
      "|16ca67e7-1515-420...|      Mark Nichols|677d3a5f-e782-455...|    ANDROID|android promo|\n",
      "|53bb794b-58b1-4f5...|     David Garrett|57cdf7dc-177a-4cf...|      APPLE|  apple promo|\n",
      "|28196996-599a-45f...|Laura Mitchell DVM|57cdf7dc-177a-4cf...|      APPLE|  apple promo|\n",
      "|99b5f502-2517-43f...|    Sabrina Oneill|677d3a5f-e782-455...|    ANDROID|android promo|\n",
      "+--------------------+------------------+--------------------+-----------+-------------+\n",
      "only showing top 5 rows\n",
      "\n"
     ]
    }
   ],
   "source": [
    "cohort.show(5)"
   ]
  },
  {
   "cell_type": "code",
   "execution_count": 8,
   "id": "5414478f",
   "metadata": {},
   "outputs": [],
   "source": [
    "# Parition is not part of data , so unable to read directly in spark\n",
    "clickstream = spark.createDataFrame(pd.read_parquet(r\"data/clickstream_data\"))"
   ]
  },
  {
   "cell_type": "code",
   "execution_count": 10,
   "id": "d992ef4d",
   "metadata": {},
   "outputs": [
    {
     "name": "stdout",
     "output_type": "stream",
     "text": [
      "+--------------------+------------------+----------+-----------+--------------------+--------------------+-----------------+---------------------+--------------------+--------------------+\n",
      "|             user_id|         user_name|event_type|facility_id|       facility_name|           market_id|      market_name|event_start_timestamp| event_end_timestamp|processing_timestamp|\n",
      "+--------------------+------------------+----------+-----------+--------------------+--------------------+-----------------+---------------------+--------------------+--------------------+\n",
      "|f8dc8576-6af9-44e...|        Rose White|  view_map|       5555|Manhattan Parking...|0a5991de-29c2-473...|New York City, NY|  2021-03-29 00:00:00|2021-03-29 00:00:...|2021-03-29 00:01:...|\n",
      "|16ca67e7-1515-420...|      Mark Nichols|  view_map|       1111| Parking on the Blvd|f08ec618-2498-4e5...|        Miami, FL| 2021-03-29 00:00:...|2021-03-29 00:00:...|2021-03-29 00:00:...|\n",
      "|53bb794b-58b1-4f5...|     David Garrett| check_out|        111| Dexter Ave. Parking|f08ec618-2498-4e5...|        Miami, FL| 2021-03-29 00:00:...|2021-03-29 00:00:...|2021-03-29 00:02:...|\n",
      "|28196996-599a-45f...|Laura Mitchell DVM|    search|       1400|   East Star Parking|c0e39ed3-10e3-49d...|      Chicago, IL| 2021-03-29 00:00:...|2021-03-29 00:00:...|2021-03-29 00:00:...|\n",
      "|99b5f502-2517-43f...|    Sabrina Oneill|  view_map|       1111| Parking on the Blvd|f08ec618-2498-4e5...|        Miami, FL| 2021-03-29 00:00:...|2021-03-29 00:00:...|2021-03-29 00:01:...|\n",
      "+--------------------+------------------+----------+-----------+--------------------+--------------------+-----------------+---------------------+--------------------+--------------------+\n",
      "only showing top 5 rows\n",
      "\n"
     ]
    }
   ],
   "source": [
    "clickstream.show(5)"
   ]
  },
  {
   "cell_type": "code",
   "execution_count": 11,
   "id": "b9b35298",
   "metadata": {},
   "outputs": [
    {
     "data": {
      "text/plain": [
       "27000"
      ]
     },
     "execution_count": 11,
     "metadata": {},
     "output_type": "execute_result"
    }
   ],
   "source": [
    "clickstream.count()"
   ]
  },
  {
   "cell_type": "code",
   "execution_count": 12,
   "id": "c7372682",
   "metadata": {},
   "outputs": [],
   "source": [
    "# Partition is not part of data, so unable to read directly in spark\n",
    "\n",
    "account = spark.createDataFrame(pd.read_parquet(r\"data/accounting_data\"))"
   ]
  },
  {
   "cell_type": "code",
   "execution_count": 13,
   "id": "16944271",
   "metadata": {},
   "outputs": [
    {
     "name": "stdout",
     "output_type": "stream",
     "text": [
      "+--------------+-----------+--------------------+-----------+------------------+-----------------+----------------+---------------------+--------------------+\n",
      "|transaction_id|facility_id|           market_id|market_name|transaction_amount|   revenue_amount|transaction_type|transaction_timestamp|processing_timestamp|\n",
      "+--------------+-----------+--------------------+-----------+------------------+-----------------+----------------+---------------------+--------------------+\n",
      "|         11631|        111|f08ec618-2498-4e5...|      Miami|               5.0|4.911647666700684|        PURCHASE| 2021-03-29 00:00:...|2021-03-29 00:00:...|\n",
      "|         11633|       1111|f08ec618-2498-4e5...|      Miami|               9.0|8.649414147906768|        PURCHASE| 2021-03-29 00:00:...|2021-03-29 00:00:...|\n",
      "|         11639|          7|7d38bdf9-0509-411...|    Toronto|               9.0| 8.62579726106193|        PURCHASE| 2021-03-29 00:01:...|2021-03-29 00:01:...|\n",
      "|         11640|         11|f08ec618-2498-4e5...|      Miami|               6.0|5.388680912941415|        PURCHASE| 2021-03-29 00:01:...|2021-03-29 00:01:...|\n",
      "|         11646|       1237|c0e39ed3-10e3-49d...|    Chicago|              10.0|9.574586854021899|        PURCHASE| 2021-03-29 00:01:...|2021-03-29 00:03:...|\n",
      "+--------------+-----------+--------------------+-----------+------------------+-----------------+----------------+---------------------+--------------------+\n",
      "only showing top 5 rows\n",
      "\n"
     ]
    }
   ],
   "source": [
    "account.show(5)"
   ]
  },
  {
   "cell_type": "code",
   "execution_count": 14,
   "id": "8e9150c2",
   "metadata": {},
   "outputs": [
    {
     "data": {
      "text/plain": [
       "7967"
      ]
     },
     "execution_count": 14,
     "metadata": {},
     "output_type": "execute_result"
    }
   ],
   "source": [
    "account.count()"
   ]
  },
  {
   "cell_type": "code",
   "execution_count": 16,
   "id": "a4d0e490",
   "metadata": {},
   "outputs": [],
   "source": [
    "# Join all the three tables based on the conditions\n",
    "# Selecting only required columns\n",
    "data = (\n",
    "    cohort.select(\"user_id\", \"cohort_id\", \"cohort_name\")\n",
    "    .join(\n",
    "        clickstream.select(\n",
    "            \"user_id\",\n",
    "            \"facility_id\",\n",
    "            \"market_id\",\n",
    "            \"market_name\",\n",
    "            \"event_start_timestamp\",\n",
    "            \"event_end_timestamp\",\n",
    "        ),\n",
    "        [\"user_id\"],\n",
    "        how=\"inner\",\n",
    "    )\n",
    "    .join(\n",
    "        account.select(\n",
    "            \"facility_id\",\n",
    "            \"revenue_amount\",\n",
    "            \"transaction_timestamp\",\n",
    "            \"processing_timestamp\",\n",
    "        ),\n",
    "        (\n",
    "            (clickstream[\"facility_id\"] == account[\"facility_id\"])\n",
    "            & (\n",
    "                account[\"transaction_timestamp\"].between(\n",
    "                    clickstream[\"event_start_timestamp\"],\n",
    "                    clickstream[\"event_end_timestamp\"],\n",
    "                )\n",
    "            )\n",
    "        ),\n",
    "        how=\"inner\",\n",
    "    )\n",
    ")\n"
   ]
  },
  {
   "cell_type": "code",
   "execution_count": 17,
   "id": "1a02d930",
   "metadata": {},
   "outputs": [
    {
     "data": {
      "text/plain": [
       "7774"
      ]
     },
     "execution_count": 17,
     "metadata": {},
     "output_type": "execute_result"
    }
   ],
   "source": [
    "data.count()"
   ]
  },
  {
   "cell_type": "code",
   "execution_count": 20,
   "id": "a18a4147",
   "metadata": {},
   "outputs": [
    {
     "data": {
      "text/plain": [
       "0"
      ]
     },
     "execution_count": 20,
     "metadata": {},
     "output_type": "execute_result"
    }
   ],
   "source": [
    "# Expected count is 7967, so let check for missing counts\n",
    "\n",
    "(cohort.select(\"user_id\", \"cohort_id\", \"cohort_name\")\n",
    "    .join(\n",
    "        clickstream.select(\n",
    "            \"user_id\",\n",
    "            \"facility_id\",\n",
    "            \"market_id\",\n",
    "            \"market_name\",\n",
    "            \"event_start_timestamp\",\n",
    "            \"event_end_timestamp\",\n",
    "        ),\n",
    "        [\"user_id\"],\n",
    "        how=\"left_anti\",\n",
    "    )).count()\n",
    "\n",
    "# All records in cohort have matching records in clickstream, lets the check the reverse"
   ]
  },
  {
   "cell_type": "code",
   "execution_count": 21,
   "id": "8ca0ff80",
   "metadata": {},
   "outputs": [
    {
     "data": {
      "text/plain": [
       "564"
      ]
     },
     "execution_count": 21,
     "metadata": {},
     "output_type": "execute_result"
    }
   ],
   "source": [
    "(clickstream.select(\n",
    "            \"user_id\",\n",
    "            \"facility_id\",\n",
    "            \"market_id\",\n",
    "            \"market_name\",\n",
    "            \"event_start_timestamp\",\n",
    "            \"event_end_timestamp\",\n",
    "        )\n",
    "    .join(cohort.select(\"user_id\", \"cohort_id\", \"cohort_name\"),\n",
    "        [\"user_id\"],\n",
    "        how=\"left_anti\",\n",
    "    )).count()\n",
    "\n",
    "# Some records in clickstream doesnt have any matching records in cohort"
   ]
  },
  {
   "cell_type": "code",
   "execution_count": 22,
   "id": "ed5000d1",
   "metadata": {},
   "outputs": [
    {
     "data": {
      "text/plain": [
       "19033"
      ]
     },
     "execution_count": 22,
     "metadata": {},
     "output_type": "execute_result"
    }
   ],
   "source": [
    "(clickstream.select(\n",
    "            \"user_id\",\n",
    "            \"facility_id\",\n",
    "            \"market_id\",\n",
    "            \"market_name\",\n",
    "            \"event_start_timestamp\",\n",
    "            \"event_end_timestamp\",\n",
    "        )\n",
    ".join(\n",
    "account.select(\n",
    "            \"facility_id\",\n",
    "            \"revenue_amount\",\n",
    "            \"transaction_timestamp\",\n",
    "            \"processing_timestamp\",\n",
    "        ),\n",
    "    (\n",
    "            (clickstream[\"facility_id\"] == account[\"facility_id\"])\n",
    "            & (\n",
    "                account[\"transaction_timestamp\"].between(\n",
    "                    clickstream[\"event_start_timestamp\"],\n",
    "                    clickstream[\"event_end_timestamp\"],\n",
    "                )\n",
    "            )\n",
    "        ),how=\"left_anti\"\n",
    ").count()\n",
    ")\n",
    "\n",
    "# Records in clickstream , doesnt have any accouting which is fine"
   ]
  },
  {
   "cell_type": "code",
   "execution_count": 24,
   "id": "34ee6ac1",
   "metadata": {},
   "outputs": [
    {
     "data": {
      "text/plain": [
       "0"
      ]
     },
     "execution_count": 24,
     "metadata": {},
     "output_type": "execute_result"
    }
   ],
   "source": [
    "(account.select(\n",
    "            \"facility_id\",\n",
    "            \"revenue_amount\",\n",
    "            \"transaction_timestamp\",\n",
    "            \"processing_timestamp\",\n",
    "        )\n",
    ".join(\n",
    "clickstream.select(\n",
    "            \"user_id\",\n",
    "            \"facility_id\",\n",
    "            \"market_id\",\n",
    "            \"market_name\",\n",
    "            \"event_start_timestamp\",\n",
    "            \"event_end_timestamp\",\n",
    "        ),\n",
    "    (\n",
    "            (clickstream[\"facility_id\"] == account[\"facility_id\"])\n",
    "            & (\n",
    "                account[\"transaction_timestamp\"].between(\n",
    "                    clickstream[\"event_start_timestamp\"],\n",
    "                    clickstream[\"event_end_timestamp\"],\n",
    "                )\n",
    "            )\n",
    "        ),how=\"left_anti\"\n",
    ").count()\n",
    ")\n",
    "\n",
    "# All accounting data have corresponding data in clickstream"
   ]
  },
  {
   "cell_type": "code",
   "execution_count": 25,
   "id": "c2c14c2a",
   "metadata": {},
   "outputs": [
    {
     "name": "stdout",
     "output_type": "stream",
     "text": [
      "+--------------------+--------------------+-----------+-----------+--------------------+-----------+---------------------+--------------------+-----------+-----------------+---------------------+--------------------+\n",
      "|             user_id|           cohort_id|cohort_name|facility_id|           market_id|market_name|event_start_timestamp| event_end_timestamp|facility_id|   revenue_amount|transaction_timestamp|processing_timestamp|\n",
      "+--------------------+--------------------+-----------+-----------+--------------------+-----------+---------------------+--------------------+-----------+-----------------+---------------------+--------------------+\n",
      "|9c9c7bb3-8d34-46a...|677d3a5f-e782-455...|    ANDROID|          7|7d38bdf9-0509-411...|Toronto, ON| 2021-03-29 00:00:...|2021-03-29 00:01:...|          7| 8.62579726106193| 2021-03-29 00:01:...|2021-03-29 00:01:...|\n",
      "|b2c83096-16bc-40a...|aaed4e58-9964-438...|     CHROME|          7|7d38bdf9-0509-411...|Toronto, ON| 2021-03-29 00:02:...|2021-03-29 00:02:...|          7| 6.00487260887781| 2021-03-29 00:02:...|2021-03-30 00:03:...|\n",
      "|4fcf7326-a39d-416...|57cdf7dc-177a-4cf...|      APPLE|          7|7d38bdf9-0509-411...|Toronto, ON| 2021-03-29 00:05:...|2021-03-29 00:05:...|          7|8.670493585539484| 2021-03-29 00:05:...|2021-03-29 00:05:...|\n",
      "+--------------------+--------------------+-----------+-----------+--------------------+-----------+---------------------+--------------------+-----------+-----------------+---------------------+--------------------+\n",
      "only showing top 3 rows\n",
      "\n"
     ]
    }
   ],
   "source": [
    "data.show(3)"
   ]
  },
  {
   "cell_type": "code",
   "execution_count": 30,
   "id": "f6f0c276",
   "metadata": {},
   "outputs": [],
   "source": [
    "# create week from accouting data processing timestamp\n",
    "from datetime import datetime\n",
    "\n",
    "def getWeek(date:datetime)->int:\n",
    "    return int(date.strftime(\"%V\"))\n",
    "\n",
    "dateUDF = udf(getWeek,IntegerType())"
   ]
  },
  {
   "cell_type": "code",
   "execution_count": 31,
   "id": "286b09fe",
   "metadata": {},
   "outputs": [],
   "source": [
    "processed = data.withColumn(\"week\",dateUDF(col(\"processing_timestamp\")))"
   ]
  },
  {
   "cell_type": "code",
   "execution_count": 32,
   "id": "4d1da562",
   "metadata": {},
   "outputs": [
    {
     "name": "stdout",
     "output_type": "stream",
     "text": [
      "+--------------------+--------------------+-----------+-----------+--------------------+-----------+---------------------+--------------------+-----------+-----------------+---------------------+--------------------+----+\n",
      "|             user_id|           cohort_id|cohort_name|facility_id|           market_id|market_name|event_start_timestamp| event_end_timestamp|facility_id|   revenue_amount|transaction_timestamp|processing_timestamp|week|\n",
      "+--------------------+--------------------+-----------+-----------+--------------------+-----------+---------------------+--------------------+-----------+-----------------+---------------------+--------------------+----+\n",
      "|9c9c7bb3-8d34-46a...|677d3a5f-e782-455...|    ANDROID|          7|7d38bdf9-0509-411...|Toronto, ON| 2021-03-29 00:00:...|2021-03-29 00:01:...|          7| 8.62579726106193| 2021-03-29 00:01:...|2021-03-29 00:01:...|  13|\n",
      "|b2c83096-16bc-40a...|aaed4e58-9964-438...|     CHROME|          7|7d38bdf9-0509-411...|Toronto, ON| 2021-03-29 00:02:...|2021-03-29 00:02:...|          7| 6.00487260887781| 2021-03-29 00:02:...|2021-03-30 00:03:...|  13|\n",
      "|4fcf7326-a39d-416...|57cdf7dc-177a-4cf...|      APPLE|          7|7d38bdf9-0509-411...|Toronto, ON| 2021-03-29 00:05:...|2021-03-29 00:05:...|          7|8.670493585539484| 2021-03-29 00:05:...|2021-03-29 00:05:...|  13|\n",
      "+--------------------+--------------------+-----------+-----------+--------------------+-----------+---------------------+--------------------+-----------+-----------------+---------------------+--------------------+----+\n",
      "only showing top 3 rows\n",
      "\n"
     ]
    }
   ],
   "source": [
    "processed.show(3)"
   ]
  },
  {
   "cell_type": "code",
   "execution_count": 35,
   "id": "023506f4",
   "metadata": {},
   "outputs": [],
   "source": [
    "# Create Window functions to Sum of revenue grouping market_id,cohort_id and week\n",
    "\n",
    "SumFunc = Window.partitionBy(col('market_id'),col('cohort_id'),col('week'))"
   ]
  },
  {
   "cell_type": "code",
   "execution_count": 39,
   "id": "d5060d4e",
   "metadata": {},
   "outputs": [],
   "source": [
    "# create Window function to calculate the rank \n",
    "\n",
    "RankFunc = Window.partitionBy(col('market_id'),col('week')).orderBy(col('revenue').desc())"
   ]
  },
  {
   "cell_type": "code",
   "execution_count": 46,
   "id": "3269cc7d",
   "metadata": {},
   "outputs": [],
   "source": [
    "final = (\n",
    "    processed.withColumn(\"revenue\", sum(col(\"revenue_amount\")).over(SumFunc))\n",
    "    .withColumn(\"rank\", row_number().over(RankFunc))\n",
    "    .filter(col(\"rank\") == 1)\n",
    "    .select(\"market_name\", \"cohort_name\", \"revenue\", \"week\")\n",
    ")\n"
   ]
  },
  {
   "cell_type": "code",
   "execution_count": 48,
   "id": "af54e108",
   "metadata": {},
   "outputs": [
    {
     "name": "stdout",
     "output_type": "stream",
     "text": [
      "+-----------------+-----------+------------------+----+\n",
      "|      market_name|cohort_name|           revenue|week|\n",
      "+-----------------+-----------+------------------+----+\n",
      "|      Chicago, IL|     CHROME| 2192.663475869587|  13|\n",
      "|      Chicago, IL|     CHROME|1937.4617431300476|  14|\n",
      "|      Chicago, IL|     CHROME|1805.3632825242073|  15|\n",
      "|      Chicago, IL|      APPLE|1742.1146116615416|  16|\n",
      "|        Miami, FL|      APPLE|1074.4541441923989|  13|\n",
      "|        Miami, FL|      APPLE|1034.3349953133907|  14|\n",
      "|        Miami, FL|     CHROME|1227.8943091940025|  15|\n",
      "|        Miami, FL|     CHROME| 1120.021240817607|  16|\n",
      "|New York City, NY|      APPLE| 788.2124150628206|  13|\n",
      "|New York City, NY|     CHROME| 759.8671458701211|  14|\n",
      "|New York City, NY|      APPLE| 827.4691275372936|  15|\n",
      "|New York City, NY|      APPLE| 611.1671053338239|  16|\n",
      "|      Seattle, WA|      APPLE| 791.2356891378341|  13|\n",
      "|      Seattle, WA|      APPLE| 862.4576849245573|  14|\n",
      "|      Seattle, WA|      APPLE| 939.3222028432923|  15|\n",
      "|      Seattle, WA|      APPLE| 743.1125709453581|  16|\n",
      "|      Toronto, ON|      APPLE|356.12470260184773|  13|\n",
      "|      Toronto, ON|      APPLE| 399.7374022182906|  14|\n",
      "|      Toronto, ON|      APPLE|  465.137476857092|  15|\n",
      "|      Toronto, ON|      APPLE|356.65551820177313|  16|\n",
      "+-----------------+-----------+------------------+----+\n",
      "\n"
     ]
    }
   ],
   "source": [
    "final.orderBy(col('market_name').asc(),col('week').asc()).show()"
   ]
  },
  {
   "cell_type": "code",
   "execution_count": null,
   "id": "031c90ce",
   "metadata": {},
   "outputs": [],
   "source": []
  }
 ],
 "metadata": {
  "kernelspec": {
   "display_name": "Python 3",
   "language": "python",
   "name": "python3"
  },
  "language_info": {
   "codemirror_mode": {
    "name": "ipython",
    "version": 3
   },
   "file_extension": ".py",
   "mimetype": "text/x-python",
   "name": "python",
   "nbconvert_exporter": "python",
   "pygments_lexer": "ipython3",
   "version": "3.8.3"
  }
 },
 "nbformat": 4,
 "nbformat_minor": 5
}
